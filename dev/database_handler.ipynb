{
 "cells": [
  {
   "cell_type": "markdown",
   "id": "84526322",
   "metadata": {},
   "source": [
    "# Database Management #"
   ]
  },
  {
   "cell_type": "markdown",
   "id": "f4622211",
   "metadata": {},
   "source": [
    "## Create Database and Table ##"
   ]
  },
  {
   "cell_type": "markdown",
   "id": "63d0dddc",
   "metadata": {},
   "source": [
    "Let's create a database \"chefs.db\" and create a table registered_chefs."
   ]
  },
  {
   "cell_type": "code",
   "execution_count": 1,
   "id": "4ae7cff4",
   "metadata": {},
   "outputs": [],
   "source": [
    "import sqlite3\n",
    "import os\n",
    "from datetime import datetime"
   ]
  },
  {
   "cell_type": "code",
   "execution_count": 2,
   "id": "f63757cc",
   "metadata": {},
   "outputs": [],
   "source": [
    "# make sure data folder exists\n",
    "os.makedirs(\"../data\", exist_ok=True)\n",
    "db_path = \"../data/chefs.db\""
   ]
  },
  {
   "cell_type": "markdown",
   "id": "88970d6e",
   "metadata": {},
   "source": [
    "Create database"
   ]
  },
  {
   "cell_type": "code",
   "execution_count": 3,
   "id": "78a84d52",
   "metadata": {},
   "outputs": [],
   "source": [
    "# connect to (or create) chefs.db\n",
    "def create_database(db_path):\n",
    "    conn = sqlite3.connect(db_path)\n",
    "    cursor = conn.cursor()\n",
    "    return conn, cursor"
   ]
  },
  {
   "cell_type": "code",
   "execution_count": 4,
   "id": "cc2433ac",
   "metadata": {},
   "outputs": [],
   "source": [
    "conn, cursor = create_database(db_path)"
   ]
  },
  {
   "cell_type": "markdown",
   "id": "0af803fb",
   "metadata": {},
   "source": [
    "Create Registered_Chefs table"
   ]
  },
  {
   "cell_type": "code",
   "execution_count": 5,
   "id": "54658fd6",
   "metadata": {},
   "outputs": [],
   "source": [
    "# create registered_chefs table if not exists\n",
    "def create_registered_chefs_table(cursor):\n",
    "    cursor.execute('''\n",
    "        CREATE TABLE IF NOT EXISTS registered_chefs (\n",
    "            id INTEGER PRIMARY KEY AUTOINCREMENT,\n",
    "            chef_id TEXT UNIQUE NOT NULL,\n",
    "            name TEXT NOT NULL,\n",
    "            image_path TEXT NOT NULL,\n",
    "            encoding TEXT NOT NULL,\n",
    "            timestamp TEXT NOT NULL\n",
    "        )\n",
    "    ''')"
   ]
  },
  {
   "cell_type": "code",
   "execution_count": 6,
   "id": "b5c8f918",
   "metadata": {},
   "outputs": [],
   "source": [
    "create_registered_chefs_table(cursor)"
   ]
  },
  {
   "cell_type": "markdown",
   "id": "28f3fff3",
   "metadata": {},
   "source": [
    "check tables"
   ]
  },
  {
   "cell_type": "code",
   "execution_count": 7,
   "id": "607a402c",
   "metadata": {},
   "outputs": [
    {
     "name": "stdout",
     "output_type": "stream",
     "text": [
      "Tables in the database:\n",
      "sqlite_sequence\n",
      "registered_chefs\n"
     ]
    }
   ],
   "source": [
    "# Query to list all tables\n",
    "cursor.execute(\"SELECT name FROM sqlite_master WHERE type='table';\")\n",
    "tables = cursor.fetchall()\n",
    "\n",
    "# Print the table names\n",
    "print(\"Tables in the database:\")\n",
    "for t in tables:\n",
    "    print(t[0])"
   ]
  },
  {
   "cell_type": "code",
   "execution_count": 8,
   "id": "302a51ad",
   "metadata": {},
   "outputs": [],
   "source": [
    "conn.commit()\n",
    "conn.close()"
   ]
  }
 ],
 "metadata": {
  "kernelspec": {
   "display_name": "venv",
   "language": "python",
   "name": "python3"
  },
  "language_info": {
   "codemirror_mode": {
    "name": "ipython",
    "version": 3
   },
   "file_extension": ".py",
   "mimetype": "text/x-python",
   "name": "python",
   "nbconvert_exporter": "python",
   "pygments_lexer": "ipython3",
   "version": "3.10.11"
  }
 },
 "nbformat": 4,
 "nbformat_minor": 5
}
