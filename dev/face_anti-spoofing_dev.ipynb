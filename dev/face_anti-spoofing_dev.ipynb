{
 "cells": [
  {
   "cell_type": "markdown",
   "id": "c3e3b8b9",
   "metadata": {},
   "source": [
    "# Face Anti-Spoofing Detection #"
   ]
  },
  {
   "cell_type": "markdown",
   "id": "713c6311",
   "metadata": {},
   "source": [
    "Video-Based detection using dlib (68-landmark)"
   ]
  },
  {
   "cell_type": "markdown",
   "id": "7cbfb200",
   "metadata": {},
   "source": [
    "## Overview of the Approach ##\n",
    "\n",
    "Input: VIDEO_DURATION=10 seconds from webcam\n",
    "Process:\n",
    "\n",
    "1. Capture frames from webcam for 10 seconds.\n",
    "2. Detect face + 68 landmarks via dlib\n",
    "3. Compute per-frame signals: EAR (blinks), nose/center motion, optical flow\n",
    "4. Score the video and decide liveness; if live, save best frame (largest face)"
   ]
  },
  {
   "cell_type": "markdown",
   "id": "c166277b",
   "metadata": {},
   "source": [
    "## Install Dependencies ##"
   ]
  },
  {
   "cell_type": "code",
   "execution_count": null,
   "id": "c58ac0a9",
   "metadata": {},
   "outputs": [],
   "source": [
    "#!pip install opencv-python dlib numpy matplotlib"
   ]
  },
  {
   "cell_type": "markdown",
   "id": "190fc8ef",
   "metadata": {},
   "source": [
    "## Imports ##"
   ]
  },
  {
   "cell_type": "code",
   "execution_count": 15,
   "id": "6b08d414",
   "metadata": {},
   "outputs": [],
   "source": [
    "import cv2\n",
    "import dlib\n",
    "import numpy as np\n",
    "import time\n",
    "import os\n",
    "from math import hypot\n",
    "import matplotlib.pyplot as plt"
   ]
  },
  {
   "cell_type": "markdown",
   "id": "612551a4",
   "metadata": {},
   "source": [
    "## Constraints ##"
   ]
  },
  {
   "cell_type": "code",
   "execution_count": 16,
   "id": "6f5da8d8",
   "metadata": {},
   "outputs": [],
   "source": [
    "## Constraints ##\n",
    "VIDEO_DURATION = 10              # seconds to capture\n",
    "CAPTURE_FPS = 15                 # target fps\n",
    "EAR_THRESHOLD = 0.21             # Eye Aspect Ratio threshold for closed eye\n",
    "EAR_CONSEC_FRAMES = 2            # consecutive frames below EAR to count a blink\n",
    "MIN_BLINKS = 1                   # minimum blinks to consider liveness\n",
    "OPTICAL_FLOW_THRESH = 1.0        # avg optical flow magnitude threshold (tune)\n",
    "HEAD_MOTION_THRESH = 0.01        # normalized motion threshold (fraction of face width)\n",
    "MIN_FACE_FRAMES = 6              # minimum frames containing a face to evaluate\n",
    "OUTPUT_FRAME_PATH = \"../data/images/temp/best_frame.jpg\"\n",
    "os.makedirs(os.path.dirname(OUTPUT_FRAME_PATH), exist_ok=True)"
   ]
  },
  {
   "cell_type": "code",
   "execution_count": 17,
   "id": "0281a9d2",
   "metadata": {},
   "outputs": [],
   "source": [
    "# Path to dlib's 68-landmark model (download if you don't have it)\n",
    "SHAPE_PREDICTOR_PATH = \"../shape_predictor_68_face_landmarks.dat\"\n",
    "if not os.path.exists(SHAPE_PREDICTOR_PATH):\n",
    "    raise FileNotFoundError(\n",
    "        f\"Missing dlib shape predictor. Download from:\\n\"\n",
    "        \"https://github.com/davisking/dlib-models/raw/master/shape_predictor_68_face_landmarks.dat.bz2\\n\"\n",
    "        \"Unzip and place the .dat file at: \" + SHAPE_PREDICTOR_PATH\n",
    "    )\n"
   ]
  },
  {
   "cell_type": "code",
   "execution_count": 18,
   "id": "65da3895",
   "metadata": {},
   "outputs": [],
   "source": [
    "# dlib models\n",
    "detector = dlib.get_frontal_face_detector()\n",
    "predictor = dlib.shape_predictor(SHAPE_PREDICTOR_PATH)"
   ]
  },
  {
   "cell_type": "markdown",
   "id": "30d30bcc",
   "metadata": {},
   "source": [
    "## Utility Functions ##"
   ]
  },
  {
   "cell_type": "code",
   "execution_count": 19,
   "id": "03c02fca",
   "metadata": {},
   "outputs": [],
   "source": [
    "def euclidean(a, b):\n",
    "    return np.linalg.norm(np.array(a) - np.array(b))"
   ]
  },
  {
   "cell_type": "code",
   "execution_count": 20,
   "id": "5b3afc6f",
   "metadata": {},
   "outputs": [],
   "source": [
    "def eye_aspect_ratio(eye_points):\n",
    "    # eye_points: list of 6 (x,y) coords in order [p1,p2,p3,p4,p5,p6]\n",
    "    # EAR = (||p2-p6|| + ||p3-p5||) / (2 * ||p1-p4||)\n",
    "    p1, p2, p3, p4, p5, p6 = eye_points\n",
    "    A = euclidean(p2, p6)\n",
    "    B = euclidean(p3, p5)\n",
    "    C = euclidean(p1, p4)\n",
    "    if C == 0:\n",
    "        return 0.0\n",
    "    ear = (A + B) / (2.0 * C)\n",
    "    return ear"
   ]
  },
  {
   "cell_type": "markdown",
   "id": "86a8a4a8",
   "metadata": {},
   "source": [
    "## dlib 68-point indices (0-based) ##"
   ]
  },
  {
   "cell_type": "code",
   "execution_count": 21,
   "id": "caf4240b",
   "metadata": {},
   "outputs": [],
   "source": [
    "RIGHT_EYE_IDX = [36, 37, 38, 39, 40, 41]   # right eye (x6)\n",
    "LEFT_EYE_IDX  = [42, 43, 44, 45, 46, 47]   # left eye (x6)\n",
    "NOSE_TIP_IDX = 30                          # nose tip index in dlib 68\n",
    "RIGHT_OUTER = 36                           # right outer eye corner (for face width)\n",
    "LEFT_OUTER = 45                            # left outer eye corner"
   ]
  },
  {
   "cell_type": "markdown",
   "id": "d7d1f692",
   "metadata": {},
   "source": [
    "## Capture 10-second video into frames (in memory) ##"
   ]
  },
  {
   "cell_type": "code",
   "execution_count": 22,
   "id": "0dced77f",
   "metadata": {},
   "outputs": [],
   "source": [
    "def capture_video_frames(duration=VIDEO_DURATION, target_fps=CAPTURE_FPS):\n",
    "    cap = cv2.VideoCapture(0)\n",
    "    if not cap.isOpened():\n",
    "        raise RuntimeError(\"Could not open webcam (device 0).\")\n",
    "\n",
    "    # Try to set fps (may not be effective on all webcams)\n",
    "    cap.set(cv2.CAP_PROP_FPS, target_fps)\n",
    "    frames = []\n",
    "    start = time.time()\n",
    "    print(\"Recording... (press Ctrl+C to stop early)\")\n",
    "    try:\n",
    "        while time.time() - start < duration:\n",
    "            ret, frame = cap.read()\n",
    "            if not ret:\n",
    "                break\n",
    "            frames.append(frame.copy())\n",
    "            # small wait to control effective fps\n",
    "            cv2.waitKey(int(1000 / target_fps))\n",
    "    finally:\n",
    "        cap.release()\n",
    "    print(f\"Captured {len(frames)} frames.\")\n",
    "    return frames\n"
   ]
  },
  {
   "cell_type": "markdown",
   "id": "105fd341",
   "metadata": {},
   "source": [
    "## Analyze frames: landmarks, EAR, head motion, optical flow ##"
   ]
  },
  {
   "cell_type": "code",
   "execution_count": 23,
   "id": "5093f6de",
   "metadata": {},
   "outputs": [],
   "source": [
    "def analyze_frames_for_liveness(frames):\n",
    "    if len(frames) < 2:\n",
    "        return {\"status\": -1, \"reason\": \"not_enough_frames\"}\n",
    "\n",
    "    ear_list = []          # per-frame average EAR\n",
    "    blink_count = 0\n",
    "    ear_below = 0\n",
    "    nose_positions = []    # (x,y) per frame in pixels\n",
    "    face_bbox_areas = []   # area of face bbox per frame\n",
    "    gray_prev = None\n",
    "    flow_mags = []\n",
    "\n",
    "    face_frames_idx = []   # indices where a face was found\n",
    "    face_widths = []\n",
    "\n",
    "    for idx, frame in enumerate(frames):\n",
    "        h, w = frame.shape[:2]\n",
    "        gray = cv2.cvtColor(frame, cv2.COLOR_BGR2GRAY)\n",
    "\n",
    "        # detect faces\n",
    "        dets = detector(gray, 0)\n",
    "        if len(dets) == 0:\n",
    "            ear_list.append(None)\n",
    "            nose_positions.append(None)\n",
    "            face_bbox_areas.append(0)\n",
    "            continue\n",
    "\n",
    "        # take the first face\n",
    "        face_frames_idx.append(idx)\n",
    "        d = dets[0]\n",
    "        shape = predictor(gray, d)\n",
    "        coords = np.array([[pt.x, pt.y] for pt in shape.parts()])\n",
    "\n",
    "        # helper to get pixel coords for an index\n",
    "        def lm(i):\n",
    "            return (int(coords[i][0]), int(coords[i][1]))\n",
    "\n",
    "        # compute EAR for both eyes if possible\n",
    "        try:\n",
    "            right_eye_pts = [lm(i) for i in RIGHT_EYE_IDX]\n",
    "            left_eye_pts  = [lm(i) for i in LEFT_EYE_IDX]\n",
    "            ear_r = eye_aspect_ratio(right_eye_pts)\n",
    "            ear_l = eye_aspect_ratio(left_eye_pts)\n",
    "            ear = (ear_r + ear_l) / 2.0\n",
    "        except Exception:\n",
    "            ear = None\n",
    "        ear_list.append(ear)\n",
    "\n",
    "        # nose tip\n",
    "        try:\n",
    "            nose = lm(NOSE_TIP_IDX)\n",
    "            nose_positions.append(nose)\n",
    "        except Exception:\n",
    "            nose_positions.append(None)\n",
    "\n",
    "        # approximate face bbox area using coords\n",
    "        try:\n",
    "            xs = coords[:, 0]\n",
    "            ys = coords[:, 1]\n",
    "            x_min, x_max = int(xs.min()), int(xs.max())\n",
    "            y_min, y_max = int(ys.min()), int(ys.max())\n",
    "            face_width = max(1, x_max - x_min)\n",
    "            face_height = max(1, y_max - y_min)\n",
    "            area = face_width * face_height\n",
    "        except Exception:\n",
    "            area = 0\n",
    "            face_width = 1\n",
    "        face_bbox_areas.append(area)\n",
    "        face_widths.append(face_width)\n",
    "\n",
    "        # optical flow between current and previous grayscale\n",
    "        if gray_prev is not None:\n",
    "            flow = cv2.calcOpticalFlowFarneback(gray_prev, gray,\n",
    "                                                None, 0.5, 3, 15, 3, 5, 1.2, 0)\n",
    "            mag, ang = cv2.cartToPolar(flow[..., 0], flow[..., 1])\n",
    "            mean_mag = float(np.mean(mag))\n",
    "            flow_mags.append(mean_mag)\n",
    "        gray_prev = gray\n",
    "\n",
    "    # analyze EAR series for blinks\n",
    "    for e in ear_list:\n",
    "        if e is None:\n",
    "            ear_below = 0\n",
    "            continue\n",
    "        if e < EAR_THRESHOLD:\n",
    "            ear_below += 1\n",
    "        else:\n",
    "            if ear_below >= EAR_CONSEC_FRAMES:\n",
    "                blink_count += 1\n",
    "            ear_below = 0\n",
    "    # final check\n",
    "    if ear_below >= EAR_CONSEC_FRAMES:\n",
    "        blink_count += 1\n",
    "\n",
    "    # compute head motion by nose displacement normalized by mean face width\n",
    "    valid_noses = [p for p in nose_positions if p is not None]\n",
    "    if len(valid_noses) >= 2:\n",
    "        nose_disps = []\n",
    "        for i in range(1, len(nose_positions)):\n",
    "            if nose_positions[i] is None or nose_positions[i - 1] is None:\n",
    "                continue\n",
    "            d = euclidean(nose_positions[i], nose_positions[i - 1])\n",
    "            nose_disps.append(d)\n",
    "        mean_face_width = np.mean(face_widths) if face_widths else 1.0\n",
    "        if mean_face_width <= 0:\n",
    "            normalized_nose_disp = 0.0\n",
    "        else:\n",
    "            normalized_nose_disp = float(np.mean(nose_disps) / (mean_face_width + 1e-6)) if nose_disps else 0.0\n",
    "    else:\n",
    "        normalized_nose_disp = 0.0\n",
    "\n",
    "    avg_flow = float(np.mean(flow_mags)) if flow_mags else 0.0\n",
    "    face_frames_count = len(face_frames_idx)\n",
    "\n",
    "    metrics = {\n",
    "        \"blink_count\": blink_count,\n",
    "        \"avg_ear\": None if not ear_list else (np.nanmean([e for e in ear_list if e is not None]) if any(e is not None for e in ear_list) else None),\n",
    "        \"avg_flow\": avg_flow,\n",
    "        \"normalized_nose_motion\": normalized_nose_disp,\n",
    "        \"face_frames_count\": face_frames_count,\n",
    "        \"face_bbox_areas\": face_bbox_areas,\n",
    "        \"ear_series\": ear_list,\n",
    "        \"flow_series\": flow_mags,\n",
    "    }\n",
    "    return metrics"
   ]
  },
  {
   "cell_type": "markdown",
   "id": "7cc7329d",
   "metadata": {},
   "source": [
    "## Decision logic (combine signals) ##"
   ]
  },
  {
   "cell_type": "code",
   "execution_count": 24,
   "id": "c8300470",
   "metadata": {},
   "outputs": [],
   "source": [
    "def decide_liveness(metrics,\n",
    "                    min_blinks=MIN_BLINKS,\n",
    "                    flow_thresh=OPTICAL_FLOW_THRESH,\n",
    "                    head_motion_thresh=HEAD_MOTION_THRESH,\n",
    "                    min_face_frames=MIN_FACE_FRAMES):\n",
    "    # Quick checks\n",
    "    if metrics[\"face_frames_count\"] < min_face_frames:\n",
    "        return -1, \"not_enough_face_frames\"\n",
    "\n",
    "    # Booleans\n",
    "    blink_ok = metrics[\"blink_count\"] >= min_blinks\n",
    "    flow_ok = metrics[\"avg_flow\"] >= flow_thresh\n",
    "    head_motion_ok = metrics[\"normalized_nose_motion\"] >= head_motion_thresh\n",
    "\n",
    "    # Weighted scoring (tunable)\n",
    "    score = 0.0\n",
    "    score += 0.6 * (1.0 if blink_ok else 0.0)    # blinks = strong evidence\n",
    "    score += 0.2 * (1.0 if flow_ok else 0.0)\n",
    "    score += 0.2 * (1.0 if head_motion_ok else 0.0)\n",
    "\n",
    "    # threshold for pass\n",
    "    PASS_SCORE = 0.4   # require at least some evidence; blink alone (0.6) would pass\n",
    "    passed = score >= PASS_SCORE\n",
    "\n",
    "    debug = {\n",
    "        \"blink_ok\": blink_ok,\n",
    "        \"flow_ok\": flow_ok,\n",
    "        \"head_motion_ok\": head_motion_ok,\n",
    "        \"score\": score,\n",
    "        \"blink_count\": metrics[\"blink_count\"],\n",
    "        \"avg_flow\": metrics[\"avg_flow\"],\n",
    "        \"normalized_nose_motion\": metrics[\"normalized_nose_motion\"],\n",
    "        \"face_frames_count\": metrics[\"face_frames_count\"]\n",
    "    }\n",
    "    if passed:\n",
    "        return True, debug\n",
    "    else:\n",
    "        return False, debug"
   ]
  },
  {
   "cell_type": "markdown",
   "id": "94b43c61",
   "metadata": {},
   "source": [
    "## Pick best frame (largest face) and save ##"
   ]
  },
  {
   "cell_type": "code",
   "execution_count": 25,
   "id": "9e7073ec",
   "metadata": {},
   "outputs": [],
   "source": [
    "def pick_best_frame_and_save(frames, metrics, out_path=OUTPUT_FRAME_PATH):\n",
    "    areas = metrics[\"face_bbox_areas\"]\n",
    "    if not areas:\n",
    "        return None\n",
    "    best_idx = int(np.argmax(areas))\n",
    "    best_frame = frames[best_idx]\n",
    "    cv2.imwrite(out_path, best_frame)\n",
    "    return out_path"
   ]
  },
  {
   "cell_type": "markdown",
   "id": "a476dd50",
   "metadata": {},
   "source": [
    "## Full end-to-end pipeline usage ##"
   ]
  },
  {
   "cell_type": "code",
   "execution_count": 26,
   "id": "a38cf1f1",
   "metadata": {},
   "outputs": [],
   "source": [
    "def anti_spoofing_video_pipeline(duration=VIDEO_DURATION):\n",
    "    frames = capture_video_frames(duration=duration)\n",
    "    metrics = analyze_frames_for_liveness(frames)\n",
    "    decision, debug = decide_liveness(metrics)\n",
    "    if decision is True:\n",
    "        best = pick_best_frame_and_save(frames, metrics)\n",
    "        print(\"✅ Live detected. Best frame saved to:\", best)\n",
    "        print(\"Debug:\", debug)\n",
    "        return True, best, metrics, debug\n",
    "    elif decision is False:\n",
    "        print(\"🛑 Spoof detected. Debug:\", debug)\n",
    "        return False, None, metrics, debug\n",
    "    else:\n",
    "        print(\"⚠️ Not enough face frames or error. Reason:\", debug if isinstance(debug, str) else debug)\n",
    "        return -1, None, metrics, debug"
   ]
  },
  {
   "cell_type": "code",
   "execution_count": 28,
   "id": "ee6d8d07",
   "metadata": {},
   "outputs": [
    {
     "name": "stdout",
     "output_type": "stream",
     "text": [
      "Recording... (press Ctrl+C to stop early)\n",
      "Captured 124 frames.\n",
      "✅ Live detected. Best frame saved to: ../data/images/temp/best_frame.jpg\n",
      "Debug: {'blink_ok': True, 'flow_ok': False, 'head_motion_ok': False, 'score': 0.6, 'blink_count': 10, 'avg_flow': 0.052890167942589356, 'normalized_nose_motion': 0.0072187501345905925, 'face_frames_count': 124}\n"
     ]
    },
    {
     "data": {
      "image/png": "[encoded data removed]",
      "text/plain": [
       "<Figure size 1000x400 with 1 Axes>"
      ]
     },
     "metadata": {},
     "output_type": "display_data"
    }
   ],
   "source": [
    "if __name__ == \"__main__\":\n",
    "    status, frame_path, metrics, debug = anti_spoofing_video_pipeline()\n",
    "    # Visualize metrics & debug (optional)\n",
    "    def visualize_metrics(metrics):\n",
    "        plt.figure(figsize=(10,4))\n",
    "        if metrics[\"ear_series\"]:\n",
    "            ears = [e if e is not None else np.nan for e in metrics[\"ear_series\"]]\n",
    "            plt.plot(ears, label=\"EAR\")\n",
    "            plt.axhline(EAR_THRESHOLD, color='r', linestyle='--', label='EAR thresh')\n",
    "        if metrics[\"flow_series\"]:\n",
    "            plt.plot(metrics[\"flow_series\"], label=\"Optical flow mag\")\n",
    "            plt.axhline(OPTICAL_FLOW_THRESH, color='g', linestyle='--', label='Flow thresh')\n",
    "        plt.legend()\n",
    "        plt.title(\"EAR & Optical Flow over frames\")\n",
    "        plt.show()\n",
    "\n",
    "    visualize_metrics(metrics)"
   ]
  },
  {
   "cell_type": "markdown",
   "id": "5053af4c",
   "metadata": {},
   "source": [
    "## Visualize metrics & debug (optional) ##"
   ]
  },
  {
   "cell_type": "code",
   "execution_count": 11,
   "id": "3451c7f9",
   "metadata": {},
   "outputs": [],
   "source": [
    "def visualize_metrics(metrics):\n",
    "    plt.figure(figsize=(10,4))\n",
    "    if metrics[\"ear_series\"]:\n",
    "        ears = [e if e is not None else np.nan for e in metrics[\"ear_series\"]]\n",
    "        plt.plot(ears, label=\"EAR\")\n",
    "        plt.axhline(EAR_THRESHOLD, color='r', linestyle='--', label='EAR thresh')\n",
    "    if metrics[\"flow_series\"]:\n",
    "        plt.plot(metrics[\"flow_series\"], label=\"Optical flow mag\")\n",
    "        plt.axhline(OPTICAL_FLOW_THRESH, color='g', linestyle='--', label='Flow thresh')\n",
    "    plt.legend()\n",
    "    plt.title(\"EAR & Optical Flow over frames\")\n",
    "    plt.show()"
   ]
  },
  {
   "cell_type": "code",
   "execution_count": 27,
   "id": "fb842d0a",
   "metadata": {},
   "outputs": [
    {
     "data": {
      "image/png": "[encoded data removed]",
      "text/plain": [
       "<Figure size 1000x400 with 1 Axes>"
      ]
     },
     "metadata": {},
     "output_type": "display_data"
    }
   ],
   "source": [
    "visualize_metrics(metrics)"
   ]
  }
 ],
 "metadata": {
  "kernelspec": {
   "display_name": "venv",
   "language": "python",
   "name": "python3"
  },
  "language_info": {
   "codemirror_mode": {
    "name": "ipython",
    "version": 3
   },
   "file_extension": ".py",
   "mimetype": "text/x-python",
   "name": "python",
   "nbconvert_exporter": "python",
   "pygments_lexer": "ipython3",
   "version": "3.10.11"
  }
 },
 "nbformat": 4,
 "nbformat_minor": 5
}
