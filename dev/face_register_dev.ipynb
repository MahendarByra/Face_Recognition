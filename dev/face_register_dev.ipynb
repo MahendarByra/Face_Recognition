{
 "cells": [
  {
   "cell_type": "markdown",
   "id": "0a1c6893",
   "metadata": {},
   "source": [
    "# Register the Chef into the Database #\n",
    "\n",
    "data/images/known_faces has chef images. The names of the file is CHEFID_FNAME-LNAME.jpg . So we need to extract chef-id, name, image_path from the folder for all chefs. Then we need to get the encodings using face_recognition. Later we will connect to the database and add all these as entries to the database."
   ]
  },
  {
   "cell_type": "markdown",
   "id": "f4eb3f31",
   "metadata": {},
   "source": [
    "## 1. Imports ##"
   ]
  },
  {
   "cell_type": "code",
   "execution_count": 6,
   "id": "18e8eb68",
   "metadata": {},
   "outputs": [],
   "source": [
    "import os\n",
    "import sqlite3\n",
    "import face_recognition\n",
    "import numpy as np\n",
    "from datetime import datetime\n",
    "from PIL import Image"
   ]
  },
  {
   "cell_type": "markdown",
   "id": "f2fb00b6",
   "metadata": {},
   "source": [
    "## 2. Define Helper Functions ##"
   ]
  },
  {
   "cell_type": "code",
   "execution_count": 7,
   "id": "01318082",
   "metadata": {},
   "outputs": [],
   "source": [
    "def extract_info_from_filename(filename):\n",
    "    base = os.path.splitext(filename)[0]\n",
    "    if '_' in base:\n",
    "        chef_id, name = base.split('_', 1)\n",
    "    else:\n",
    "        chef_id, name = \"Unknown\", base\n",
    "    return chef_id, name.replace('_', ' ')"
   ]
  },
  {
   "cell_type": "markdown",
   "id": "b3bb9a21",
   "metadata": {},
   "source": [
    "## 3. Encode Image and Save to DB ##"
   ]
  },
  {
   "cell_type": "code",
   "execution_count": 8,
   "id": "bbf2ae37",
   "metadata": {},
   "outputs": [],
   "source": [
    "db_path = '../data/chefs.db'\n",
    "\n",
    "def connect_db(db_path='../data/chefs.db'):\n",
    "    conn = sqlite3.connect(db_path)\n",
    "    cursor = conn.cursor()\n",
    "    return conn, cursor"
   ]
  },
  {
   "cell_type": "code",
   "execution_count": 9,
   "id": "e98961df",
   "metadata": {},
   "outputs": [],
   "source": [
    "conn, cursor = connect_db(db_path)"
   ]
  },
  {
   "cell_type": "code",
   "execution_count": 10,
   "id": "99d4a3a8",
   "metadata": {},
   "outputs": [],
   "source": [
    "def register_chef(image_path, db_path='../data/chefs.db'):\n",
    "    print(f\"Registering chef from image: {image_path}\")\n",
    "\n",
    "    image = face_recognition.load_image_file(image_path)\n",
    "    encodings = face_recognition.face_encodings(image)\n",
    "    \n",
    "    if not encodings:\n",
    "        print(f\"❌ No face found in image: {image_path}\")\n",
    "        return\n",
    "    \n",
    "    encoding = encodings[0]\n",
    "    chef_id, name = extract_info_from_filename(os.path.basename(image_path))\n",
    "\n",
    "    cursor.execute(\"\"\"\n",
    "        INSERT INTO registered_chefs (chef_ID, name, image_path, encoding, timestamp)\n",
    "        VALUES (?, ?, ?, ?, ?)\n",
    "    \"\"\", (\n",
    "        chef_id,\n",
    "        name,\n",
    "        image_path,\n",
    "        str(list(encoding)),  # store encoding as string\n",
    "        datetime.now().strftime('%Y-%m-%d %H:%M:%S')\n",
    "    ))\n",
    "    \n",
    "    conn.commit()\n",
    "    print(f\"✅ Registered: {name} ({chef_id})\")"
   ]
  },
  {
   "cell_type": "markdown",
   "id": "2e56877d",
   "metadata": {},
   "source": [
    "## 4. Register All Chefs in Folder ##"
   ]
  },
  {
   "cell_type": "code",
   "execution_count": 11,
   "id": "52cc4b4e",
   "metadata": {},
   "outputs": [],
   "source": [
    "def register_all_known_faces(folder_path='../data/images/known_faces'):\n",
    "    for filename in os.listdir(folder_path):\n",
    "        if filename.lower().endswith(('.jpg', '.png', '.jpeg')):\n",
    "            full_path = os.path.join(folder_path, filename)\n",
    "            register_chef(full_path)"
   ]
  },
  {
   "cell_type": "code",
   "execution_count": 12,
   "id": "e081fab4",
   "metadata": {},
   "outputs": [
    {
     "name": "stdout",
     "output_type": "stream",
     "text": [
      "Registering chef from image: ../data/images/known_faces\\C0010_Harpal-Sokhi.jpg\n",
      "✅ Registered: Harpal-Sokhi (C0010)\n",
      "Registering chef from image: ../data/images/known_faces\\C0012_Rohit-Sharma.jpg\n",
      "✅ Registered: Rohit-Sharma (C0012)\n",
      "Registering chef from image: ../data/images/known_faces\\C001_Sanjeev-Kapoor.jpg\n",
      "✅ Registered: Sanjeev-Kapoor (C001)\n",
      "Registering chef from image: ../data/images/known_faces\\C002_Vikas-Khanna.jpg\n",
      "✅ Registered: Vikas-Khanna (C002)\n",
      "Registering chef from image: ../data/images/known_faces\\C003_Ranveer-Brar.jpg\n",
      "✅ Registered: Ranveer-Brar (C003)\n",
      "Registering chef from image: ../data/images/known_faces\\C004_Madhur-Jaffrey.jpg\n",
      "✅ Registered: Madhur-Jaffrey (C004)\n",
      "Registering chef from image: ../data/images/known_faces\\C005_Anjum-Anand.jpg\n",
      "✅ Registered: Anjum-Anand (C005)\n",
      "Registering chef from image: ../data/images/known_faces\\C006_Hari-Nayak.jpg\n",
      "✅ Registered: Hari-Nayak (C006)\n",
      "Registering chef from image: ../data/images/known_faces\\C007_Tarla-Dalal.jpg\n",
      "✅ Registered: Tarla-Dalal (C007)\n",
      "Registering chef from image: ../data/images/known_faces\\C008_Nita-Mehta.jpg\n",
      "✅ Registered: Nita-Mehta (C008)\n",
      "Registering chef from image: ../data/images/known_faces\\C009_Saransh-Goila.jpg\n",
      "✅ Registered: Saransh-Goila (C009)\n"
     ]
    }
   ],
   "source": [
    "register_all_known_faces('../data/images/known_faces')"
   ]
  },
  {
   "cell_type": "code",
   "execution_count": 13,
   "id": "80dbe318",
   "metadata": {},
   "outputs": [],
   "source": [
    "conn.close()"
   ]
  }
 ],
 "metadata": {
  "kernelspec": {
   "display_name": "venv",
   "language": "python",
   "name": "python3"
  },
  "language_info": {
   "codemirror_mode": {
    "name": "ipython",
    "version": 3
   },
   "file_extension": ".py",
   "mimetype": "text/x-python",
   "name": "python",
   "nbconvert_exporter": "python",
   "pygments_lexer": "ipython3",
   "version": "3.10.11"
  }
 },
 "nbformat": 4,
 "nbformat_minor": 5
}
